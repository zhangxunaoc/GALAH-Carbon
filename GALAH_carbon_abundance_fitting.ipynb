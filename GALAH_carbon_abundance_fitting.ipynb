{
 "cells": [
  {
   "cell_type": "code",
   "execution_count": 1,
   "metadata": {},
   "outputs": [],
   "source": [
    "# preamble\n",
    "from astropy.io import fits\n",
    "import astropy.io.fits as pyfits\n",
    "\n",
    "from matplotlib import pyplot as plt\n",
    "import numpy as np\n",
    "from numpy import append\n",
    "from scipy.optimize import curve_fit\n",
    "import scipy.stats"
   ]
  },
  {
   "cell_type": "markdown",
   "metadata": {},
   "source": [
    "# 1 Get Observed Spectrum and DR3 Stellar Labels for SOBJECT_ID"
   ]
  },
  {
   "cell_type": "code",
   "execution_count": 2,
   "metadata": {},
   "outputs": [],
   "source": [
    "working_directory = '/home/zhangxu/anaconda3/lib/python3.7/site-packages/The_Payne/other_data/CE_stars/'\n",
    "\n",
    "def read_spectra(sobject_id, SPECTRA = 'SPECTRA'):\n",
    "    \"\"\"\n",
    "    This function reads in the 4 individual spectra from the subdirectory SPECTRA\n",
    "    \n",
    "    INPUT:\n",
    "    sobject_id - identifier of spectra by date (6digits), plate (4digits), combination (2digits) and pivot number (3digits)\n",
    "    SPECTRA - string to indicate sub directory where spectra are saved\n",
    "    \n",
    "    OUTPUT\n",
    "    spectrum - dictionary\n",
    "    \"\"\"\n",
    "    spectrum = dict(sobject_id = sobject_id)\n",
    "    \n",
    "    # Assess if spectrum is stacked\n",
    "    if str(sobject_id)[11] == '1':\n",
    "        # Single observations are saved in 'com'\n",
    "        com='com'\n",
    "    else:\n",
    "        # Stacked observations are saved in 'com2'\n",
    "        com='com'   \n",
    "    \n",
    "    # Iterate through all 4 CCDs\n",
    "    for each_ccd in [1,2,3,4]:\n",
    "        \n",
    "        fits = pyfits.open(working_directory+str(sobject_id)+str(each_ccd)+'.fits')\n",
    "\n",
    "        # Extension 0: Reduced spectrum\n",
    "        # Extension 1: Relative error spectrum\n",
    "        # Extension 4: Normalised spectrum, NB: cut for CCD4\n",
    "        \n",
    "        # Extract wavelength grid for the reduced spectrum\n",
    "        start_wavelength = fits[0].header[\"CRVAL1\"]\n",
    "        dispersion       = fits[0].header[\"CDELT1\"]\n",
    "        nr_pixels        = fits[0].header[\"NAXIS1\"]\n",
    "        reference_pixel  = fits[0].header[\"CRPIX1\"]\n",
    "        \n",
    "        if reference_pixel == 0:\n",
    "            reference_pixel = 1\n",
    "        spectrum['wave_red_'+str(each_ccd)] = np.array(list(map(lambda x:((x-reference_pixel+1)*dispersion+start_wavelength),range(0,nr_pixels))))\n",
    "        \n",
    "        # Extract wavelength grid for the normalised spectrum\n",
    "        start_wavelength = fits[4].header[\"CRVAL1\"]\n",
    "        dispersion       = fits[4].header[\"CDELT1\"]\n",
    "        nr_pixels        = fits[4].header[\"NAXIS1\"]\n",
    "        reference_pixel  = fits[4].header[\"CRPIX1\"]\n",
    "        if reference_pixel == 0:\n",
    "            reference_pixel=1\n",
    "        spectrum['wave_norm_'+str(each_ccd)] = np.array(list(map(lambda x:((x-reference_pixel+1)*dispersion+start_wavelength),range(0,nr_pixels))))\n",
    "        \n",
    "        # Extract flux and flux error of reduced spectrum\n",
    "        spectrum['sob_red_'+str(each_ccd)]  = np.array(fits[0].data)\n",
    "        spectrum['uob_red_'+str(each_ccd)]  = np.array(fits[0].data * fits[1].data)\n",
    "\n",
    "        # Extract flux and flux error of reduced spectrum\n",
    "        spectrum['sob_norm_'+str(each_ccd)] = np.array(fits[4].data)\n",
    "        if each_ccd != 4:\n",
    "            spectrum['uob_norm_'+str(each_ccd)] = np.array(fits[4].data * fits[1].data)\n",
    "        else:\n",
    "            # for normalised error of CCD4, only used appropriate parts of error spectrum\n",
    "            spectrum['uob_norm_4'] = np.array(fits[4].data * (fits[1].data)[-len(spectrum['sob_norm_4']):])\n",
    "            \n",
    "        fits.close()\n",
    "    return spectrum    "
   ]
  },
  {
   "cell_type": "code",
   "execution_count": 3,
   "metadata": {},
   "outputs": [],
   "source": [
    "def interpolate_spectrum_onto_cannon_wavelength(spectrum):\n",
    "    \"\"\"\n",
    "    This function interpolates the spectrum \n",
    "    onto the wavelength grid of The Cannon as used for GALAH DR2\n",
    "    \n",
    "    INPUT:\n",
    "    spectrum dictionary\n",
    "    \n",
    "    OUTPUT:\n",
    "    interpolated spectrum dictionary\n",
    "    \n",
    "    \"\"\"\n",
    "    \n",
    "    # Initialise interpolated spectrum from input spectrum\n",
    "    interpolated_spectrum = dict()\n",
    "    for each_key in spectrum.keys():\n",
    "        interpolated_spectrum[each_key] = spectrum[each_key]\n",
    "    \n",
    "    # The Cannon wavelength grid as used for GALAH DR2\n",
    "    wave_cannon = dict()\n",
    "    wave_cannon['ccd1'] = np.arange(4715.94,4896.00,0.046) # ab lines 4716.3 - 4892.3\n",
    "    wave_cannon['ccd2'] = np.arange(5650.06,5868.25,0.055) # ab lines 5646.0 - 5867.8\n",
    "    wave_cannon['ccd3'] = np.arange(6480.52,6733.92,0.064) # ab lines 6481.6 - 6733.4\n",
    "    wave_cannon['ccd4'] = np.arange(7693.50,7875.55,0.074) # ab lines 7691.2 - 7838.5\n",
    "    \n",
    "    for each_ccd in [1, 2, 3, 4]:\n",
    "        \n",
    "        # exchange wavelength\n",
    "        interpolated_spectrum['wave_red_'+str(each_ccd)]  = wave_cannon['ccd'+str(each_ccd)]\n",
    "        interpolated_spectrum['wave_norm_'+str(each_ccd)] = wave_cannon['ccd'+str(each_ccd)]\n",
    "        \n",
    "        # interpolate and exchange flux\n",
    "        interpolated_spectrum['sob_red_'+str(each_ccd)]  = np.interp(\n",
    "            x=wave_cannon['ccd'+str(each_ccd)],\n",
    "            xp=spectrum['wave_red_'+str(each_ccd)],\n",
    "            fp=spectrum['sob_red_'+str(each_ccd)],\n",
    "            )\n",
    "        interpolated_spectrum['sob_norm_'+str(each_ccd)]  = np.interp(\n",
    "            wave_cannon['ccd'+str(each_ccd)],\n",
    "            spectrum['wave_norm_'+str(each_ccd)],\n",
    "            spectrum['sob_norm_'+str(each_ccd)],\n",
    "            )\n",
    "\n",
    "        # interpolate and exchange flux error\n",
    "        interpolated_spectrum['uob_red_'+str(each_ccd)]  = np.interp(\n",
    "            wave_cannon['ccd'+str(each_ccd)],\n",
    "            spectrum['wave_red_'+str(each_ccd)],\n",
    "            spectrum['uob_red_'+str(each_ccd)],\n",
    "            )\n",
    "        interpolated_spectrum['uob_norm_'+str(each_ccd)]  = np.interp(\n",
    "            wave_cannon['ccd'+str(each_ccd)],\n",
    "            spectrum['wave_norm_'+str(each_ccd)],\n",
    "            spectrum['uob_norm_'+str(each_ccd)],\n",
    "            )\n",
    "\n",
    "    return interpolated_spectrum"
   ]
  },
  {
   "cell_type": "code",
   "execution_count": 4,
   "metadata": {},
   "outputs": [],
   "source": [
    "def theil_sen(x, y, sample= False, n_samples = 100, use_thomas_implementation = True):\n",
    "    '''\n",
    "    This function applies a Theil-Sen normalisation to the input\n",
    "    \n",
    "    INPUT:\n",
    "    spectrum - dictionary from read_spectra()\n",
    "    \n",
    "    OUTPUT:\n",
    "    norm_spectrum - dictionary\n",
    "    \n",
    "    from https://github.com/CamDavidsonPilon/Python-Numerics/blob/master/Estimators/theil_sen.py\n",
    "    rewrite by Sven Buder.\n",
    "    '''\n",
    "    \n",
    "    if use_thomas_implementation:\n",
    "        num = x.shape[0]\n",
    "        n = np.int64((num)*(num-1)/2)\n",
    "        theil = y[0]*np.ones(n)\n",
    "        t = 0\n",
    "        \n",
    "        # Loop over every ordered pair of points (i, j>i):\n",
    "        for i in range(0,num-1):\n",
    "            # Vectorized inner loop:\n",
    "            j = np.arange(num-i-1)+i+1\n",
    "            #print(len(y[j]),len(y[i]),len(x[j]),len(x[i]),len(t))\n",
    "            theil[t:t+num-i-1] = (y[j]-y[i]) / (x[j]-x[i])\n",
    "            t += num-i-1\n",
    "        slope = np.median(theil)\n",
    "        intercept = np.median(y - slope*x)\n",
    "        \n",
    "        return np.array([slope, intercept])\n",
    "    \n",
    "    else:\n",
    "        \n",
    "        def slope(x_1, x_2, y_1, y_2):\n",
    "            return (1 - 2*(x_1>x_2))*((y_2 - y_1)/np.abs((x_2-x_1)))\n",
    "\n",
    "        assert x.shape[0] == y.shape[0]\n",
    "\n",
    "        n = x.shape[0]\n",
    "\n",
    "        if n < n_samples or not sample:\n",
    "            ix = np.argsort( x )\n",
    "            slopes = np.empty(int(n*(n-1)*0.5))\n",
    "            for c, pair in enumerate(itertools.combinations(range(n), 2)):\n",
    "                i,j = ix[pair[0]], ix[pair[1]]\n",
    "                slopes[c] = slope(x[i], x[j], y[i], y[j])\n",
    "        else:\n",
    "            i1 = np.random.randint(int(0), int(n), int(n_samples))\n",
    "            i2 = np.random.randint(int(0), int(n), int(n_samples))\n",
    "            slopes = slope(x[i1], x[i2], y[i1], y[i2])\n",
    "\n",
    "        slope_ = bottleneck.nanmedian(slopes)\n",
    "        #find the optimal b as the median of y_i - slope*x_i\n",
    "        intercepts = np.empty(n)\n",
    "        for c in range(n):\n",
    "            intercepts[c] = y[c] - slope_*x[c]\n",
    "        intercept_ = bottleneck.median(intercepts)\n",
    "\n",
    "        return np.array([slope_, intercept_])\n",
    "\n",
    "def slope(x_1, x_2, y_1, y_2):\n",
    "    '''called by theil sen'''\n",
    "    return (1 - 2*(x_1>x_2))*((y_2 - y_1)/np.abs((x_2-x_1)))"
   ]
  },
  {
   "cell_type": "code",
   "execution_count": 5,
   "metadata": {},
   "outputs": [],
   "source": [
    "def renormalise_norm_spec_from_payne(wavelength, obs_spec, spectrum):\n",
    "    '''\n",
    "    divide the whole Payne fitted spectrum into multiple segments. \n",
    "    Theil sen estimator is used to fit Payne fitted spectrum segment/observed  spectrum segment. \n",
    "    Payne fitted spectrum is divided by the median (which is from Thile sen) to get renormalized spectrum. \n",
    "    '''\n",
    "    start_wave = [4715, 4730, 4745]\n",
    "    end_wave = [4730, 4745, 4760]\n",
    "\n",
    "    renormalise_norm_spec = np.zeros(len(obs_spec))\n",
    "\n",
    "    for i in range(len(start_wave)):\n",
    "        \n",
    "        norm_spec_from_payne_segment = spectrum[(start_wave[i] < wavelength) & (wavelength < end_wave[i])]\n",
    "        \n",
    "        norm_spec_segment = obs_spec[(start_wave[i] < wavelength) & (wavelength < end_wave[i])]\n",
    "    \n",
    "        'theil sen estimator'\n",
    "        np.seterr(divide='ignore', invalid='ignore')\n",
    "        fit = theil_sen(wavelength[(start_wave[i] < wavelength) & (wavelength < end_wave[i])], norm_spec_from_payne_segment/  norm_spec_segment)\n",
    "        median = wavelength[(start_wave[i] < wavelength) & (wavelength < end_wave[i])]*fit[0] + fit[1]\n",
    "        renorm_spec_from_payne_segment = norm_spec_from_payne_segment/median\n",
    "        renormalise_norm_spec[(start_wave[i] < wavelength) & (wavelength < end_wave[i])] = renorm_spec_from_payne_segment  \n",
    "#        print('kai2 spectrum and obs_spec:', scipy.stats.chisquare(f_obs=renormalise_norm_spec, f_exp=obs_spec))\n",
    "    return renormalise_norm_spec"
   ]
  },
  {
   "cell_type": "code",
   "execution_count": 6,
   "metadata": {},
   "outputs": [],
   "source": [
    "def get_stellar_labels(sobject_id, dr3_table='GALAH_DR3_main_200331.fits'):\n",
    "    \"\"\"\n",
    "    get stellar labels corresponding to the given sobject_id\n",
    "    \n",
    "    INPUT:\n",
    "    sobject_id - identifier of spectra by date (6digits), plate (4digits), combination (2digits) and pivot number (3digits)\n",
    "    dr3_table - filename of DR3 main catalog with stellar parameter\n",
    "    \n",
    "    OUTPUT\n",
    "    labels - labels for the specific sobject_id\n",
    "    \"\"\"\n",
    "    a1 = fits.getdata('/home/zhangxu/anaconda3/lib/python3.7/site-packages/The_Payne/other_data/'+dr3_table,ext=1)\n",
    "    idx=np.where(sobject_id==a1['sobject_id'])\n",
    "    label=[a1['teff'][idx][0],a1['logg'][idx][0],a1['fe_h'][idx][0]]\n",
    "    \n",
    "    return label"
   ]
  },
  {
   "cell_type": "markdown",
   "metadata": {},
   "source": [
    "# 2 Load Grid of Synthetic Spectra and define interpolation routines"
   ]
  },
  {
   "cell_type": "code",
   "execution_count": 7,
   "metadata": {},
   "outputs": [],
   "source": [
    "def read_synthetic_grid(grid_file='GALAH-spectra-galahCN_63.fits'):\n",
    "    \"\"\"\n",
    "    This function reads the synthetic grid into memory\n",
    "    \n",
    "    INPUT:\n",
    "    grid_file - file provided by Thomas Nordlander (see email from 200615)\n",
    "    \n",
    "    OUTPUT:\n",
    "    grid - dictionary\n",
    "    \n",
    "    \"\"\"\n",
    "    a1 = fits.getdata('/home/zhangxu/anaconda3/lib/python3.7/site-packages/The_Payne/other_data/'+grid_file,ext=1)[0]\n",
    "    a2 = fits.getdata('/home/zhangxu/anaconda3/lib/python3.7/site-packages/The_Payne/other_data/'+grid_file,ext=2)\n",
    "    \n",
    "    model_grid=dict(\n",
    "            WAVE = a1['WAVE'],\n",
    "            TEFF = a1['TEFF'],\n",
    "            LOGG = a1['LOGG'],\n",
    "            FEH = a1['FEH'],\n",
    "            NFE = a1['CFE'],\n",
    "            CFE = a1['NFE'],\n",
    "            smod = a2\n",
    "        )\n",
    "    return(model_grid)"
   ]
  },
  {
   "cell_type": "code",
   "execution_count": 8,
   "metadata": {},
   "outputs": [],
   "source": [
    "def grid(teff=None,logg=None,feh=None,cfe=None,nfe=1.0):\n",
    "    \"\"\"\n",
    "    Return synthetic spectra corrresponding to label\n",
    "    \n",
    "    INPUT:\n",
    "    teff, logg, feh, cfe - values are same as grid label\n",
    "    \n",
    "    OUTPUT:\n",
    "    grid - synthetic spectra\n",
    "    \"\"\"\n",
    "    model_grid=read_synthetic_grid(grid_file='GALAH-spectra-galahCN_63.fits')\n",
    "    index = np.where((teff==model_grid['TEFF'])&(logg==model_grid['LOGG'])&(feh==model_grid['FEH'])&(cfe==model_grid['CFE'])&(nfe==model_grid['NFE']))\n",
    "    grid = model_grid['smod'][index]\n",
    "    return np.array(grid)[:,0:957]"
   ]
  },
  {
   "cell_type": "code",
   "execution_count": 9,
   "metadata": {},
   "outputs": [],
   "source": [
    "grid_teffs = np.array([3000,3100,3200,3300,3400,3500,3600,3700,3800,3900,4000,\n",
    "                           4250,4500,4750,5000,5250,5500,5750,6000,6250,6500,6750,\n",
    "                           7000,7250,7500,7750,8000])"
   ]
  },
  {
   "cell_type": "code",
   "execution_count": 10,
   "metadata": {},
   "outputs": [],
   "source": [
    "dx_teff_low = len(np.where(5000>=grid_teffs)[0])-1"
   ]
  },
  {
   "cell_type": "code",
   "execution_count": null,
   "metadata": {},
   "outputs": [],
   "source": [
    "dx_teff_low"
   ]
  },
  {
   "cell_type": "code",
   "execution_count": null,
   "metadata": {},
   "outputs": [],
   "source": [
    "teff_weight = (5250-5000)/(5250-5000)"
   ]
  },
  {
   "cell_type": "code",
   "execution_count": null,
   "metadata": {},
   "outputs": [],
   "source": [
    "teff_weight "
   ]
  },
  {
   "cell_type": "code",
   "execution_count": 11,
   "metadata": {},
   "outputs": [],
   "source": [
    "def interpolate_synthetic_spectrum(labels, c_abund, interpolation_type='linear'):\n",
    "    \"\"\"\n",
    "    This function interpolates within the synthetic grid.\n",
    "    It gives back a synthetic spectrum corresponding to the labels+c_abund combination\n",
    "    \n",
    "    INPUT:\n",
    "    grid - dictionary from read_synthetic_grid() or theil_sen_normalisation()\n",
    "    labels - dictionary from get_stellar_labels()\n",
    "    \n",
    "    OUTPUT:\n",
    "    synthetic_spectrum for the labels and c_abund\n",
    "    \n",
    "    \"\"\"\n",
    "    \n",
    "    teff, logg, feh = labels\n",
    "    cfe = c_abund\n",
    "    \n",
    "    grid_teffs = np.array([3000,3100,3200,3300,3400,3500,3600,3700,3800,3900,4000,\n",
    "                           4250,4500,4750,5000,5250,5500,5750,6000,6250,6500,6750,\n",
    "                           7000,7250,7500,7750,8000])\n",
    "    grid_loggs = np.array([0.5,1.,1.5,2.,2.5,3.,3.5,4.,4.5,5.,5.5])\n",
    "    grid_feh   = np.array([-2.,-1.5,-1.,-0.75,-0.5,-0.25,0.,0.25,0.5,0.75,1.])\n",
    "    grid_cfe   = np.array([-1.,-0.5,-0.25,0.,0.25,0.5,1.])\n",
    "    \n",
    "    if teff<3000.0 or teff>=8000.0 or logg<0.5 or logg>=5.5 or feh<-2.0 or feh>=1.0:\n",
    "        print('an index error caused by labels over range')\n",
    "    else:   \n",
    "        idx_teff_low = len(np.where(teff>=grid_teffs)[0])-1\n",
    "        idx_logg_low = len(np.where(logg>=grid_loggs)[0])-1\n",
    "        idx_feh_low = len(np.where(feh>=grid_feh)[0])-1\n",
    "        idx_cfe_low = len(np.where(cfe>=grid_cfe)[0])-1\n",
    "#     print('idx_cfe_low:',idx_cfe_low)\n",
    "    \n",
    "    idx_teff_high = idx_teff_low+1\n",
    "    idx_logg_high = idx_logg_low+1\n",
    "    idx_feh_high = idx_feh_low+1\n",
    "    idx_cfe_high = idx_cfe_low+1\n",
    "\n",
    "#     print('idx_cfe_high',idx_cfe_high)\n",
    "\n",
    "    if interpolation_type=='scipy.interpn':\n",
    "        spectrum = scipy.interpn(grid, values=[labels,c_abund])\n",
    "        return(spectrum)\n",
    "\n",
    "    if interpolation_type=='linear':\n",
    "        \n",
    "        print('You are using linear interpolation')\n",
    "        \n",
    "        # You want as a result:\n",
    "        teff_grid_low = grid_teffs[idx_teff_low]\n",
    "        teff_grid_high = grid_teffs[idx_teff_high]\n",
    "        teff_weight = (teff_grid_high-teff)/(teff_grid_high-teff_grid_low)\n",
    "        \n",
    "        print('Label in:',teff)\n",
    "        print('Closest grid points:',teff_grid_low,teff_grid_high)\n",
    "        print('We want to use that much of the lower Teff spectra')\n",
    "        print(teff_weight)\n",
    "        print('We want to use that much of the higher Teff spectra')\n",
    "        print(1-teff_weight)\n",
    "\n",
    "        # same for logg\n",
    "        logg_grid_low = grid_loggs[idx_logg_low]\n",
    "        logg_grid_high = grid_loggs[idx_logg_high]\n",
    "        logg_weight = (logg_grid_high-logg)/(logg_grid_high-logg_grid_low)\n",
    "        \n",
    "#         print('Label in:',logg)\n",
    "#         print('Closest grid points:',logg_grid_low,logg_grid_high)\n",
    "#         print('We want to use that much of the lower logg spectra')\n",
    "#         print(logg_weight)\n",
    "#         print('We want to use that much of the higher logg spectra')\n",
    "#         print(1-logg_weight)\n",
    "        \n",
    "        # same for feh\n",
    "        feh_grid_low = grid_feh[idx_feh_low]\n",
    "        feh_grid_high = grid_feh[idx_feh_high]\n",
    "        feh_weight = (feh_grid_high-feh)/(feh_grid_high-feh_grid_low)\n",
    "        \n",
    "        print('Label in:',feh)\n",
    "        print('Closest grid points:',feh_grid_low,feh_grid_high)\n",
    "        print('We want to use that much of the lower feh spectra')\n",
    "        print(feh_weight)\n",
    "        print('We want to use that much of the higher feh spectra')\n",
    "        print(1-feh_weight)\n",
    "        \n",
    "        # same for cfe\n",
    "        cfe_grid_low = grid_cfe[idx_cfe_low]\n",
    "        cfe_grid_high = grid_cfe[idx_cfe_high]\n",
    "        cfe_weight = (cfe_grid_high-cfe)/(cfe_grid_high-cfe_grid_low)\n",
    "        \n",
    "#         print('Label in:',cfe)\n",
    "#         print('Closest grid points:',cfe_grid_low,cfe_grid_high)\n",
    "#         print('We want to use that much of the lower cfe spectra')\n",
    "#         print(cfe_weight)\n",
    "#         print('We want to use that much of the higher cfe spectra')\n",
    "#         print(1-cfe_weight)\n",
    "        \n",
    "        spectrum_0000 = grid(teff=teff_grid_low, logg=logg_grid_low, feh=feh_grid_low, cfe=cfe_grid_low)\n",
    "        \n",
    "        spectrum_1000 = grid(teff=teff_grid_high, logg=logg_grid_low, feh=feh_grid_low, cfe=cfe_grid_low)\n",
    "        spectrum_0100 = grid(teff=teff_grid_low, logg=logg_grid_high, feh=feh_grid_low, cfe=cfe_grid_low)\n",
    "        spectrum_0010 = grid(teff=teff_grid_low, logg=logg_grid_low, feh=feh_grid_high, cfe=cfe_grid_low)\n",
    "        spectrum_0001 = grid(teff=teff_grid_low, logg=logg_grid_low, feh=feh_grid_low, cfe=cfe_grid_high)\n",
    "        \n",
    "        spectrum_1100 = grid(teff=teff_grid_high, logg=logg_grid_high, feh=feh_grid_low, cfe=cfe_grid_low)\n",
    "        spectrum_1010 = grid(teff=teff_grid_high, logg=logg_grid_low, feh=feh_grid_high, cfe=cfe_grid_low)\n",
    "        spectrum_1001 = grid(teff=teff_grid_high, logg=logg_grid_low, feh=feh_grid_low, cfe=cfe_grid_high)\n",
    "        spectrum_0110 = grid(teff=teff_grid_low, logg=logg_grid_high, feh=feh_grid_high, cfe=cfe_grid_low)\n",
    "        spectrum_0101 = grid(teff=teff_grid_low, logg=logg_grid_high, feh=feh_grid_low, cfe=cfe_grid_high)\n",
    "        spectrum_0011 = grid(teff=teff_grid_low, logg=logg_grid_low, feh=feh_grid_high, cfe=cfe_grid_high)\n",
    "        \n",
    "        spectrum_1110 = grid(teff=teff_grid_high, logg=logg_grid_high, feh=feh_grid_high, cfe=cfe_grid_low)\n",
    "        spectrum_0111 = grid(teff=teff_grid_low, logg=logg_grid_high, feh=feh_grid_high, cfe=cfe_grid_high)\n",
    "        spectrum_1011 = grid(teff=teff_grid_high, logg=logg_grid_low, feh=feh_grid_high, cfe=cfe_grid_high)\n",
    "        spectrum_1101 = grid(teff=teff_grid_high, logg=logg_grid_high, feh=feh_grid_low, cfe=cfe_grid_high)\n",
    "         \n",
    "        spectrum_1111 = grid(teff=teff_grid_high, logg=logg_grid_high, feh=feh_grid_high, cfe=cfe_grid_high)\n",
    "\n",
    "        # then interpolate in the TEFF dimension\n",
    "        spectrum_000 = teff_weight*spectrum_0000 + (1-teff_weight)*spectrum_1000\n",
    "        spectrum_100 = teff_weight*spectrum_0100 + (1-teff_weight)*spectrum_1100\n",
    "        spectrum_010 = teff_weight*spectrum_0010 + (1-teff_weight)*spectrum_1010\n",
    "        spectrum_001 = teff_weight*spectrum_0001 + (1-teff_weight)*spectrum_1001\n",
    "        spectrum_110 = teff_weight*spectrum_0110 + (1-teff_weight)*spectrum_1110\n",
    "        spectrum_011 = teff_weight*spectrum_0011 + (1-teff_weight)*spectrum_1011\n",
    "        spectrum_101 = teff_weight*spectrum_0101 + (1-teff_weight)*spectrum_1101\n",
    "        spectrum_111 = teff_weight*spectrum_0111 + (1-teff_weight)*spectrum_1111\n",
    "\n",
    "        # then interpolate in the LOGG dimension\n",
    "        spectrum_00 = logg_weight*spectrum_000 + (1-logg_weight)*spectrum_100\n",
    "        spectrum_10 = logg_weight*spectrum_010 + (1-logg_weight)*spectrum_110\n",
    "        spectrum_01 = logg_weight*spectrum_001 + (1-logg_weight)*spectrum_101\n",
    "        spectrum_11 = logg_weight*spectrum_011 + (1-logg_weight)*spectrum_111\n",
    "        \n",
    "        # then interpolate in the FEH dimension\n",
    "        spectrum_0 = feh_weight*spectrum_00 + (1-feh_weight)*spectrum_10\n",
    "        spectrum_1 = feh_weight*spectrum_01 + (1-feh_weight)*spectrum_11\n",
    "        \n",
    "        # then interpolate in the CFE dimension\n",
    "        spectrum = cfe_weight*spectrum_0 + (1-cfe_weight)*spectrum_1\n",
    "        \n",
    "        return spectrum"
   ]
  },
  {
   "cell_type": "markdown",
   "metadata": {},
   "source": [
    "# 3 Define fitting routine to estimate A(C)"
   ]
  },
  {
   "cell_type": "code",
   "execution_count": 12,
   "metadata": {},
   "outputs": [],
   "source": [
    "def fit_c_abund(norm_spec, labels):\n",
    "    \"\"\"\n",
    "    This function finds the best c_abund for the observed spectrum and its labels\n",
    "    \n",
    "    INPUT:\n",
    "    spectrum - dictionary from read_synthetic_grid()\n",
    "    labels - dictionary from get_stellar_labels()\n",
    "    c_abund - Carbon abundance A(C)\n",
    "    interpolation_type:\n",
    "        - 'linear': N-dimensional linar, e.g. trilinear interpolation\n",
    "        - 'neural_network': i.e. a Payne model\n",
    "        - ?\n",
    "    \n",
    "    OUTPUT:\n",
    "    best_c_abund\n",
    "    fitting uncertainties\n",
    "    best_c_abund_synthetic_spectrum\n",
    "    (an array of chi2 and c_abund values)\n",
    "    \"\"\"\n",
    "    \n",
    "    def fit_func(dummy_variable, *c_abund):\n",
    "        print('c_abund1:',c_abund)\n",
    "        spectrum = interpolate_synthetic_spectrum(labels=labels,c_abund=c_abund)\n",
    "        spectrum = renormalise_norm_spec_from_payne(wavelength=wavelength, obs_spec=norm_spec, spectrum=spectrum[0])\n",
    "        print('kai2', scipy.stats.chisquare(f_obs=spectrum, f_exp=norm_spec),\n",
    "            'c_abund:', c_abund)\n",
    "        return spectrum\n",
    "    \n",
    "    tol = 5e-4 # tolerance for when the optimizer should stop optimizing.\n",
    "\n",
    "#     set infinity uncertainty to pixels that we want to omit\n",
    "#     spec_err[mask] = 999.\n",
    "\n",
    "    #set initial guess\n",
    "    p0 = 0\n",
    "    #run the optimizer\n",
    "    popt, pcov = curve_fit(fit_func, xdata=[], ydata = norm_spec, p0 = p0,sigma=flux_error_each,\n",
    "                           method='trf',bounds=([-1],[1]), ftol = tol, xtol = tol, )\n",
    "    model_spec = fit_func([], *popt)\n",
    "    \n",
    "    return(popt, pcov, model_spec)"
   ]
  },
  {
   "cell_type": "code",
   "execution_count": 13,
   "metadata": {},
   "outputs": [],
   "source": [
    "sobject_id = 170909002601216"
   ]
  },
  {
   "cell_type": "code",
   "execution_count": 21,
   "metadata": {},
   "outputs": [
    {
     "name": "stdout",
     "output_type": "stream",
     "text": [
      "[5060.7007, 2.6434748, -2.0908284]\n"
     ]
    }
   ],
   "source": [
    "# 1 Get Observed Spectrum and DR3 Stellar Labels for SOBJECT_ID\n",
    "spectrum = read_spectra(sobject_id)\n",
    "interpolated_spectrum = interpolate_spectrum_onto_cannon_wavelength(spectrum)\n",
    "labels = get_stellar_labels(sobject_id)\n",
    "print(labels)"
   ]
  },
  {
   "cell_type": "code",
   "execution_count": 25,
   "metadata": {},
   "outputs": [],
   "source": [
    "labels[2]=-1.2"
   ]
  },
  {
   "cell_type": "code",
   "execution_count": 26,
   "metadata": {},
   "outputs": [],
   "source": [
    "# contact wavelength\n",
    "wavelength=np.concatenate((interpolated_spectrum['wave_norm_1'],interpolated_spectrum['wave_norm_2'],interpolated_spectrum['wave_norm_3'],interpolated_spectrum['wave_norm_4']),axis=None)[0:957]\n",
    "# contact flux\n",
    "flux_each=np.concatenate((interpolated_spectrum['sob_norm_1'],interpolated_spectrum['sob_norm_2'],interpolated_spectrum['sob_norm_3'],interpolated_spectrum['sob_norm_4']),axis=None)[0:957]\n",
    "#contact flux error\n",
    "flux_error_each=np.concatenate((interpolated_spectrum['uob_norm_1'],interpolated_spectrum['uob_norm_2'],interpolated_spectrum['uob_norm_3'],interpolated_spectrum['uob_norm_4']),axis=None)[0:957]"
   ]
  },
  {
   "cell_type": "code",
   "execution_count": 27,
   "metadata": {},
   "outputs": [],
   "source": [
    "# 2 Load grid of synthetic spectra"
   ]
  },
  {
   "cell_type": "code",
   "execution_count": 28,
   "metadata": {
    "scrolled": true
   },
   "outputs": [
    {
     "name": "stdout",
     "output_type": "stream",
     "text": [
      "c_abund1: (0.0,)\n",
      "You are using linear interpolation\n",
      "Label in: 5060.7007\n",
      "Closest grid points: 5000 5250\n",
      "We want to use that much of the lower Teff spectra\n",
      "0.757197265625\n",
      "We want to use that much of the higher Teff spectra\n",
      "0.242802734375\n",
      "Label in: -1.2\n",
      "Closest grid points: -1.5 -1.0\n",
      "We want to use that much of the lower feh spectra\n",
      "0.3999999999999999\n",
      "We want to use that much of the higher feh spectra\n",
      "0.6000000000000001\n",
      "kai2 Power_divergenceResult(statistic=10.02658450116459, pvalue=1.0) c_abund: (0.0,)\n",
      "c_abund1: (1.4901161193847656e-08,)\n",
      "You are using linear interpolation\n",
      "Label in: 5060.7007\n",
      "Closest grid points: 5000 5250\n",
      "We want to use that much of the lower Teff spectra\n",
      "0.757197265625\n",
      "We want to use that much of the higher Teff spectra\n",
      "0.242802734375\n",
      "Label in: -1.2\n",
      "Closest grid points: -1.5 -1.0\n",
      "We want to use that much of the lower feh spectra\n",
      "0.3999999999999999\n",
      "We want to use that much of the higher feh spectra\n",
      "0.6000000000000001\n",
      "kai2 Power_divergenceResult(statistic=10.026584472857866, pvalue=1.0) c_abund: (1.4901161193847656e-08,)\n",
      "c_abund1: (0.7897793130229512,)\n",
      "You are using linear interpolation\n",
      "Label in: 5060.7007\n",
      "Closest grid points: 5000 5250\n",
      "We want to use that much of the lower Teff spectra\n",
      "0.757197265625\n",
      "We want to use that much of the higher Teff spectra\n",
      "0.242802734375\n",
      "Label in: -1.2\n",
      "Closest grid points: -1.5 -1.0\n",
      "We want to use that much of the lower feh spectra\n",
      "0.3999999999999999\n",
      "We want to use that much of the higher feh spectra\n",
      "0.6000000000000001\n",
      "kai2 Power_divergenceResult(statistic=5.192684381468021, pvalue=1.0) c_abund: (0.7897793130229512,)\n",
      "c_abund1: (0.7897793279241124,)\n",
      "You are using linear interpolation\n",
      "Label in: 5060.7007\n",
      "Closest grid points: 5000 5250\n",
      "We want to use that much of the lower Teff spectra\n",
      "0.757197265625\n",
      "We want to use that much of the higher Teff spectra\n",
      "0.242802734375\n",
      "Label in: -1.2\n",
      "Closest grid points: -1.5 -1.0\n",
      "We want to use that much of the lower feh spectra\n",
      "0.3999999999999999\n",
      "We want to use that much of the higher feh spectra\n",
      "0.6000000000000001\n",
      "kai2 Power_divergenceResult(statistic=5.192684319320545, pvalue=1.0) c_abund: (0.7897793279241124,)\n",
      "c_abund1: (0.8344278679037256,)\n",
      "You are using linear interpolation\n",
      "Label in: 5060.7007\n",
      "Closest grid points: 5000 5250\n",
      "We want to use that much of the lower Teff spectra\n",
      "0.757197265625\n",
      "We want to use that much of the higher Teff spectra\n",
      "0.242802734375\n",
      "Label in: -1.2\n",
      "Closest grid points: -1.5 -1.0\n",
      "We want to use that much of the lower feh spectra\n",
      "0.3999999999999999\n",
      "We want to use that much of the higher feh spectra\n",
      "0.6000000000000001\n",
      "kai2 Power_divergenceResult(statistic=5.038903277630144, pvalue=1.0) c_abund: (0.8344278679037256,)\n",
      "c_abund1: (0.8344278828048868,)\n",
      "You are using linear interpolation\n",
      "Label in: 5060.7007\n",
      "Closest grid points: 5000 5250\n",
      "We want to use that much of the lower Teff spectra\n",
      "0.757197265625\n",
      "We want to use that much of the higher Teff spectra\n",
      "0.242802734375\n",
      "Label in: -1.2\n",
      "Closest grid points: -1.5 -1.0\n",
      "We want to use that much of the lower feh spectra\n",
      "0.3999999999999999\n",
      "We want to use that much of the higher feh spectra\n",
      "0.6000000000000001\n",
      "kai2 Power_divergenceResult(statistic=5.038903240843498, pvalue=1.0) c_abund: (0.8344278828048868,)\n",
      "c_abund1: (0.8638984180816767,)\n",
      "You are using linear interpolation\n",
      "Label in: 5060.7007\n",
      "Closest grid points: 5000 5250\n",
      "We want to use that much of the lower Teff spectra\n",
      "0.757197265625\n",
      "We want to use that much of the higher Teff spectra\n",
      "0.242802734375\n",
      "Label in: -1.2\n",
      "Closest grid points: -1.5 -1.0\n",
      "We want to use that much of the lower feh spectra\n",
      "0.3999999999999999\n",
      "We want to use that much of the higher feh spectra\n",
      "0.6000000000000001\n",
      "kai2 Power_divergenceResult(statistic=4.979536324080603, pvalue=1.0) c_abund: (0.8638984180816767,)\n",
      "c_abund1: (0.8638984329828379,)\n",
      "You are using linear interpolation\n",
      "Label in: 5060.7007\n",
      "Closest grid points: 5000 5250\n",
      "We want to use that much of the lower Teff spectra\n",
      "0.757197265625\n",
      "We want to use that much of the higher Teff spectra\n",
      "0.242802734375\n",
      "Label in: -1.2\n",
      "Closest grid points: -1.5 -1.0\n",
      "We want to use that much of the lower feh spectra\n",
      "0.3999999999999999\n",
      "We want to use that much of the higher feh spectra\n",
      "0.6000000000000001\n",
      "kai2 Power_divergenceResult(statistic=4.979536277419729, pvalue=1.0) c_abund: (0.8638984329828379,)\n",
      "c_abund1: (0.8739138961587455,)\n",
      "You are using linear interpolation\n",
      "Label in: 5060.7007\n",
      "Closest grid points: 5000 5250\n",
      "We want to use that much of the lower Teff spectra\n",
      "0.757197265625\n",
      "We want to use that much of the higher Teff spectra\n",
      "0.242802734375\n",
      "Label in: -1.2\n",
      "Closest grid points: -1.5 -1.0\n",
      "We want to use that much of the lower feh spectra\n",
      "0.3999999999999999\n",
      "We want to use that much of the higher feh spectra\n",
      "0.6000000000000001\n",
      "kai2 Power_divergenceResult(statistic=4.963071432654981, pvalue=1.0) c_abund: (0.8739138961587455,)\n",
      "c_abund1: (0.8739139110599067,)\n",
      "You are using linear interpolation\n",
      "Label in: 5060.7007\n",
      "Closest grid points: 5000 5250\n",
      "We want to use that much of the lower Teff spectra\n",
      "0.757197265625\n",
      "We want to use that much of the higher Teff spectra\n",
      "0.242802734375\n",
      "Label in: -1.2\n",
      "Closest grid points: -1.5 -1.0\n",
      "We want to use that much of the lower feh spectra\n",
      "0.3999999999999999\n",
      "We want to use that much of the higher feh spectra\n",
      "0.6000000000000001\n",
      "kai2 Power_divergenceResult(statistic=4.96307140322647, pvalue=1.0) c_abund: (0.8739139110599067,)\n",
      "c_abund1: (0.8831557666781075,)\n",
      "You are using linear interpolation\n",
      "Label in: 5060.7007\n",
      "Closest grid points: 5000 5250\n",
      "We want to use that much of the lower Teff spectra\n",
      "0.757197265625\n",
      "We want to use that much of the higher Teff spectra\n",
      "0.242802734375\n",
      "Label in: -1.2\n",
      "Closest grid points: -1.5 -1.0\n",
      "We want to use that much of the lower feh spectra\n",
      "0.3999999999999999\n",
      "We want to use that much of the higher feh spectra\n",
      "0.6000000000000001\n",
      "kai2 Power_divergenceResult(statistic=4.951885224603304, pvalue=1.0) c_abund: (0.8831557666781075,)\n",
      "c_abund1: (0.8831557815792687,)\n",
      "You are using linear interpolation\n",
      "Label in: 5060.7007\n",
      "Closest grid points: 5000 5250\n",
      "We want to use that much of the lower Teff spectra\n",
      "0.757197265625\n",
      "We want to use that much of the higher Teff spectra\n",
      "0.242802734375\n",
      "Label in: -1.2\n",
      "Closest grid points: -1.5 -1.0\n",
      "We want to use that much of the lower feh spectra\n",
      "0.3999999999999999\n",
      "We want to use that much of the higher feh spectra\n",
      "0.6000000000000001\n",
      "kai2 Power_divergenceResult(statistic=4.951885204686251, pvalue=1.0) c_abund: (0.8831557815792687,)\n",
      "c_abund1: (0.8890314069416082,)\n",
      "You are using linear interpolation\n",
      "Label in: 5060.7007\n",
      "Closest grid points: 5000 5250\n",
      "We want to use that much of the lower Teff spectra\n",
      "0.757197265625\n",
      "We want to use that much of the higher Teff spectra\n",
      "0.242802734375\n",
      "Label in: -1.2\n",
      "Closest grid points: -1.5 -1.0\n",
      "We want to use that much of the lower feh spectra\n",
      "0.3999999999999999\n",
      "We want to use that much of the higher feh spectra\n",
      "0.6000000000000001\n",
      "kai2 Power_divergenceResult(statistic=4.945692828252975, pvalue=1.0) c_abund: (0.8890314069416082,)\n",
      "c_abund1: (0.8890314218427694,)\n",
      "You are using linear interpolation\n",
      "Label in: 5060.7007\n",
      "Closest grid points: 5000 5250\n",
      "We want to use that much of the lower Teff spectra\n",
      "0.757197265625\n",
      "We want to use that much of the higher Teff spectra\n",
      "0.242802734375\n",
      "Label in: -1.2\n",
      "Closest grid points: -1.5 -1.0\n",
      "We want to use that much of the lower feh spectra\n",
      "0.3999999999999999\n",
      "We want to use that much of the higher feh spectra\n",
      "0.6000000000000001\n",
      "kai2 Power_divergenceResult(statistic=4.945692818270736, pvalue=1.0) c_abund: (0.8890314218427694,)\n",
      "c_abund1: (0.8910174743200936,)\n",
      "You are using linear interpolation\n",
      "Label in: 5060.7007\n",
      "Closest grid points: 5000 5250\n",
      "We want to use that much of the lower Teff spectra\n",
      "0.757197265625\n",
      "We want to use that much of the higher Teff spectra\n",
      "0.242802734375\n",
      "Label in: -1.2\n",
      "Closest grid points: -1.5 -1.0\n",
      "We want to use that much of the lower feh spectra\n",
      "0.3999999999999999\n",
      "We want to use that much of the higher feh spectra\n",
      "0.6000000000000001\n",
      "kai2 Power_divergenceResult(statistic=4.946554109685849, pvalue=1.0) c_abund: (0.8910174743200936,)\n",
      "c_abund1: (0.8895279237862296,)\n",
      "You are using linear interpolation\n",
      "Label in: 5060.7007\n",
      "Closest grid points: 5000 5250\n",
      "We want to use that much of the lower Teff spectra\n",
      "0.757197265625\n",
      "We want to use that much of the higher Teff spectra\n",
      "0.242802734375\n",
      "Label in: -1.2\n",
      "Closest grid points: -1.5 -1.0\n",
      "We want to use that much of the lower feh spectra\n",
      "0.3999999999999999\n",
      "We want to use that much of the higher feh spectra\n",
      "0.6000000000000001\n"
     ]
    },
    {
     "name": "stdout",
     "output_type": "stream",
     "text": [
      "kai2 Power_divergenceResult(statistic=4.945860241880943, pvalue=1.0) c_abund: (0.8895279237862296,)\n",
      "c_abund1: (0.8891555361527635,)\n",
      "You are using linear interpolation\n",
      "Label in: 5060.7007\n",
      "Closest grid points: 5000 5250\n",
      "We want to use that much of the lower Teff spectra\n",
      "0.757197265625\n",
      "We want to use that much of the higher Teff spectra\n",
      "0.242802734375\n",
      "Label in: -1.2\n",
      "Closest grid points: -1.5 -1.0\n",
      "We want to use that much of the lower feh spectra\n",
      "0.3999999999999999\n",
      "We want to use that much of the higher feh spectra\n",
      "0.6000000000000001\n",
      "kai2 Power_divergenceResult(statistic=4.945685107110153, pvalue=1.0) c_abund: (0.8891555361527635,)\n",
      "c_abund1: (0.8891555510539247,)\n",
      "You are using linear interpolation\n",
      "Label in: 5060.7007\n",
      "Closest grid points: 5000 5250\n",
      "We want to use that much of the lower Teff spectra\n",
      "0.757197265625\n",
      "We want to use that much of the higher Teff spectra\n",
      "0.242802734375\n",
      "Label in: -1.2\n",
      "Closest grid points: -1.5 -1.0\n",
      "We want to use that much of the lower feh spectra\n",
      "0.3999999999999999\n",
      "We want to use that much of the higher feh spectra\n",
      "0.6000000000000001\n",
      "kai2 Power_divergenceResult(statistic=4.945685107142917, pvalue=1.0) c_abund: (0.8891555510539247,)\n",
      "c_abund1: (0.8891555361527635,)\n",
      "You are using linear interpolation\n",
      "Label in: 5060.7007\n",
      "Closest grid points: 5000 5250\n",
      "We want to use that much of the lower Teff spectra\n",
      "0.757197265625\n",
      "We want to use that much of the higher Teff spectra\n",
      "0.242802734375\n",
      "Label in: -1.2\n",
      "Closest grid points: -1.5 -1.0\n",
      "We want to use that much of the lower feh spectra\n",
      "0.3999999999999999\n",
      "We want to use that much of the higher feh spectra\n",
      "0.6000000000000001\n",
      "kai2 Power_divergenceResult(statistic=4.945685107110153, pvalue=1.0) c_abund: (0.8891555361527635,)\n"
     ]
    }
   ],
   "source": [
    "# 3 Fit A(C) for given spectrum and labels with given grid\n",
    "c_abund, uncertainties, fitted_spectra = fit_c_abund(flux_each, labels)"
   ]
  },
  {
   "cell_type": "code",
   "execution_count": 29,
   "metadata": {},
   "outputs": [
    {
     "data": {
      "text/plain": [
       "array([[0.01358447]])"
      ]
     },
     "execution_count": 29,
     "metadata": {},
     "output_type": "execute_result"
    }
   ],
   "source": [
    "np.sqrt(uncertainties)"
   ]
  },
  {
   "cell_type": "code",
   "execution_count": 30,
   "metadata": {},
   "outputs": [
    {
     "data": {
      "text/plain": [
       "<matplotlib.legend.Legend at 0x7f7a49862898>"
      ]
     },
     "execution_count": 30,
     "metadata": {},
     "output_type": "execute_result"
    },
    {
     "data": {
      "image/png": "[encoded data removed]",
      "text/plain": [
       "<Figure size 1080x180 with 1 Axes>"
      ]
     },
     "metadata": {
      "needs_background": "light"
     },
     "output_type": "display_data"
    }
   ],
   "source": [
    "f, ax = plt.subplots(1,1,figsize=(15,2.5))\n",
    "ax.plot(wavelength, flux_each, 'b', lw=0.5)\n",
    "ax.plot(wavelength, fitted_spectra, 'r', lw=0.5)\n",
    "ax.legend(labels=['Obs spec','Syn spec'],loc='best')"
   ]
  },
  {
   "cell_type": "code",
   "execution_count": null,
   "metadata": {},
   "outputs": [],
   "source": []
  },
  {
   "cell_type": "code",
   "execution_count": null,
   "metadata": {},
   "outputs": [],
   "source": []
  },
  {
   "cell_type": "code",
   "execution_count": 32,
   "metadata": {},
   "outputs": [
    {
     "name": "stdout",
     "output_type": "stream",
     "text": [
      "You are using linear interpolation\n",
      "Label in: 5060.7007\n",
      "Closest grid points: 5000 5250\n",
      "We want to use that much of the lower Teff spectra\n",
      "0.7571971999999987\n",
      "We want to use that much of the higher Teff spectra\n",
      "0.24280280000000132\n",
      "Label in: -1.5908284\n",
      "Closest grid points: -2.0 -1.5\n",
      "We want to use that much of the lower feh spectra\n",
      "0.18165679999999984\n",
      "We want to use that much of the higher feh spectra\n",
      "0.8183432000000002\n"
     ]
    }
   ],
   "source": [
    "spec1=interpolate_synthetic_spectrum([5060.7007, 2.6434748, -1.5908284], 0.8, interpolation_type='linear')"
   ]
  },
  {
   "cell_type": "code",
   "execution_count": 33,
   "metadata": {},
   "outputs": [
    {
     "name": "stdout",
     "output_type": "stream",
     "text": [
      "You are using linear interpolation\n",
      "Label in: 5060.7007\n",
      "Closest grid points: 5000 5250\n",
      "We want to use that much of the lower Teff spectra\n",
      "0.7571971999999987\n",
      "We want to use that much of the higher Teff spectra\n",
      "0.24280280000000132\n",
      "Label in: -1.5908284\n",
      "Closest grid points: -2.0 -1.5\n",
      "We want to use that much of the lower feh spectra\n",
      "0.18165679999999984\n",
      "We want to use that much of the higher feh spectra\n",
      "0.8183432000000002\n"
     ]
    }
   ],
   "source": [
    "spec2=interpolate_synthetic_spectrum([5060.7007, 2.6434748, -1.5908284], 0.9, interpolation_type='linear')"
   ]
  },
  {
   "cell_type": "code",
   "execution_count": 34,
   "metadata": {},
   "outputs": [
    {
     "data": {
      "text/plain": [
       "Text(0, 0.5, 'Flux')"
      ]
     },
     "execution_count": 34,
     "metadata": {},
     "output_type": "execute_result"
    },
    {
     "data": {
      "image/png": "[encoded data removed]",
      "text/plain": [
       "<Figure size 1080x180 with 1 Axes>"
      ]
     },
     "metadata": {
      "needs_background": "light"
     },
     "output_type": "display_data"
    }
   ],
   "source": [
    "f, ax = plt.subplots(1,1,figsize=(15,2.5))\n",
    "ax.plot(wavelength, spec1[0]-spec2[0], 'b', lw=0.5)\n",
    "ax.set_xlabel('Wavelength')\n",
    "ax.set_ylabel('Flux')"
   ]
  },
  {
   "cell_type": "code",
   "execution_count": 35,
   "metadata": {},
   "outputs": [],
   "source": [
    "c=grid(teff=5250,logg=3,feh=-0.5,cfe=0,nfe=1)"
   ]
  },
  {
   "cell_type": "code",
   "execution_count": 36,
   "metadata": {},
   "outputs": [
    {
     "data": {
      "text/plain": [
       "Text(0, 0.5, 'Flux')"
      ]
     },
     "execution_count": 36,
     "metadata": {},
     "output_type": "execute_result"
    },
    {
     "data": {
      "image/png": "[encoded data removed]",
      "text/plain": [
       "<Figure size 1080x180 with 1 Axes>"
      ]
     },
     "metadata": {
      "needs_background": "light"
     },
     "output_type": "display_data"
    }
   ],
   "source": [
    "f, ax = plt.subplots(1,1,figsize=(15,2.5))\n",
    "ax.plot(wavelength, flux_each, 'b', lw=0.5)\n",
    "ax.plot(wavelength, c[0], 'r', lw=0.5)\n",
    "\n",
    "ax.axvline(x=4737, color='r', linestyle='--',label='swan')\n",
    "ax.legend(labels=['Teff=5250K, logg=3, feh=-2.0, cfe=1.0'],loc='best')\n",
    "ax.set_xlabel('Wavelength')\n",
    "ax.set_ylabel('Flux')"
   ]
  },
  {
   "cell_type": "code",
   "execution_count": 37,
   "metadata": {},
   "outputs": [],
   "source": [
    "c=grid(teff=5000,logg=2.5,feh=-1.5,cfe=1,nfe=1)"
   ]
  },
  {
   "cell_type": "code",
   "execution_count": 38,
   "metadata": {},
   "outputs": [
    {
     "data": {
      "text/plain": [
       "Text(0, 0.5, 'Flux')"
      ]
     },
     "execution_count": 38,
     "metadata": {},
     "output_type": "execute_result"
    },
    {
     "data": {
      "image/png": "[encoded data removed]",
      "text/plain": [
       "<Figure size 1080x180 with 1 Axes>"
      ]
     },
     "metadata": {
      "needs_background": "light"
     },
     "output_type": "display_data"
    }
   ],
   "source": [
    "f, ax = plt.subplots(1,1,figsize=(15,2.5))\n",
    "ax.plot(wavelength, flux_each, 'b', lw=0.5)\n",
    "ax.plot(wavelength, c[0], 'r', lw=0.5)\n",
    "\n",
    "ax.axvline(x=4737, color='r', linestyle='--',label='swan')\n",
    "ax.legend(labels=['Teff=5000K, logg=2.5, feh=-2.0, cfe=0.5'],loc='best')\n",
    "ax.set_xlabel('Wavelength')\n",
    "ax.set_ylabel('Flux')"
   ]
  },
  {
   "cell_type": "code",
   "execution_count": null,
   "metadata": {},
   "outputs": [],
   "source": [
    "grid_teffs = np.array([3000,3100,3200,3300,3400,3500,3600,3700,3800,3900,4000,\n",
    "                           4250,4500,4750,5000,5250,5500,5750,6000,6250,6500,6750,\n",
    "                           7000,7250,7500,7750,8000])\n",
    "grid_loggs = np.array([0.5,1.,1.5,2.,2.5,3.,3.5,4.,4.5,5.,5.5])\n",
    "grid_feh   = np.array([-2.,-1.5,-1.,-0.75,-0.5,-0.25,0.,0.25,0.5,0.75,1.])\n",
    "grid_cfe   = np.array([-1.,-0.5,-0.25,0.,0.25,0.5,1.])"
   ]
  }
 ],
 "metadata": {
  "kernelspec": {
   "display_name": "Python 3",
   "language": "python",
   "name": "python3"
  },
  "language_info": {
   "codemirror_mode": {
    "name": "ipython",
    "version": 3
   },
   "file_extension": ".py",
   "mimetype": "text/x-python",
   "name": "python",
   "nbconvert_exporter": "python",
   "pygments_lexer": "ipython3",
   "version": "3.7.3"
  }
 },
 "nbformat": 4,
 "nbformat_minor": 2
}
